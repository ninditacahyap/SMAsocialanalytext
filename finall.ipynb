{
 "cells": [
  {
   "cell_type": "code",
   "execution_count": 1,
   "metadata": {},
   "outputs": [],
   "source": [
    "import pandas as pd"
   ]
  },
  {
   "cell_type": "code",
   "execution_count": 2,
   "metadata": {},
   "outputs": [],
   "source": [
    "dnvb_topic = pd.read_csv(\"/workspaces/sma-plan2/instagram/dnvb.id/dnvb.id_topic.csv\")\n",
    "dnvb_cat = pd.read_csv(\"/workspaces/sma-plan2/instagram/dnvb.id/dnvb.id_cat.csv\")"
   ]
  },
  {
   "cell_type": "code",
   "execution_count": 3,
   "metadata": {},
   "outputs": [
    {
     "data": {
      "text/plain": [
       "['2023-03-27 13:00:00', '2023-03-10 12:27:11', '2023-02-21 10:57:38']"
      ]
     },
     "execution_count": 3,
     "metadata": {},
     "output_type": "execute_result"
    }
   ],
   "source": [
    "dnvb_topic[dnvb_topic['Dominant_Topic']==0].sort_values('engagement', ascending=False)[:3]['Id'].to_list()"
   ]
  },
  {
   "cell_type": "code",
   "execution_count": 4,
   "metadata": {},
   "outputs": [],
   "source": [
    "dnvb_topic_date = dnvb_topic.copy()"
   ]
  },
  {
   "cell_type": "code",
   "execution_count": 5,
   "metadata": {},
   "outputs": [],
   "source": [
    "dnvb_topic_date['Id'] = dnvb_topic_date['Id'].apply(lambda x: x.replace(' ', '_').replace(':', '-'))"
   ]
  },
  {
   "cell_type": "code",
   "execution_count": null,
   "metadata": {},
   "outputs": [],
   "source": [
    "def get_engagement_likes(df):\n",
    "    "
   ]
  },
  {
   "cell_type": "code",
   "execution_count": 6,
   "metadata": {},
   "outputs": [
    {
     "data": {
      "text/html": [
       "<div>\n",
       "<style scoped>\n",
       "    .dataframe tbody tr th:only-of-type {\n",
       "        vertical-align: middle;\n",
       "    }\n",
       "\n",
       "    .dataframe tbody tr th {\n",
       "        vertical-align: top;\n",
       "    }\n",
       "\n",
       "    .dataframe thead th {\n",
       "        text-align: right;\n",
       "    }\n",
       "</style>\n",
       "<table border=\"1\" class=\"dataframe\">\n",
       "  <thead>\n",
       "    <tr style=\"text-align: right;\">\n",
       "      <th></th>\n",
       "      <th>index</th>\n",
       "      <th>Document_No</th>\n",
       "      <th>Dominant_Topic</th>\n",
       "      <th>Topic_Perc_Contrib</th>\n",
       "      <th>Keywords</th>\n",
       "      <th>Text</th>\n",
       "      <th>Date</th>\n",
       "      <th>likes</th>\n",
       "      <th>comments</th>\n",
       "      <th>url</th>\n",
       "      <th>engagement</th>\n",
       "      <th>Id</th>\n",
       "      <th>Hour</th>\n",
       "      <th>Day Name</th>\n",
       "      <th>Day Number</th>\n",
       "    </tr>\n",
       "  </thead>\n",
       "  <tbody>\n",
       "    <tr>\n",
       "      <th>0</th>\n",
       "      <td>0</td>\n",
       "      <td>0</td>\n",
       "      <td>7</td>\n",
       "      <td>0.999171</td>\n",
       "      <td>marketing, ga, iklan, orang, kalo, campaign, b...</td>\n",
       "      <td>['aqua', 'yonex', 'toyota', 'puluhan', 'brand'...</td>\n",
       "      <td>2023-03-31 21:37:34</td>\n",
       "      <td>5390</td>\n",
       "      <td>59</td>\n",
       "      <td>https://scontent-iad3-2.cdninstagram.com/v/t51...</td>\n",
       "      <td>5449</td>\n",
       "      <td>2023-03-31_14-37-34</td>\n",
       "      <td>21</td>\n",
       "      <td>Friday</td>\n",
       "      <td>5</td>\n",
       "    </tr>\n",
       "    <tr>\n",
       "      <th>1</th>\n",
       "      <td>1</td>\n",
       "      <td>1</td>\n",
       "      <td>7</td>\n",
       "      <td>0.999147</td>\n",
       "      <td>marketing, ga, iklan, orang, kalo, campaign, b...</td>\n",
       "      <td>['aou', 'mota', 'kerjasama', 'adidas', 'kanye'...</td>\n",
       "      <td>2023-03-30 19:50:26</td>\n",
       "      <td>776</td>\n",
       "      <td>7</td>\n",
       "      <td>https://scontent-iad3-1.cdninstagram.com/v/t51...</td>\n",
       "      <td>783</td>\n",
       "      <td>2023-03-30_12-50-26</td>\n",
       "      <td>19</td>\n",
       "      <td>Thursday</td>\n",
       "      <td>4</td>\n",
       "    </tr>\n",
       "    <tr>\n",
       "      <th>2</th>\n",
       "      <td>2</td>\n",
       "      <td>2</td>\n",
       "      <td>4</td>\n",
       "      <td>0.793028</td>\n",
       "      <td>campaign, marketing, orang, iklan, ga, bikin, ...</td>\n",
       "      <td>['data', 'forbes', 'partnership', 'bisnis', 'g...</td>\n",
       "      <td>2023-03-29 19:05:46</td>\n",
       "      <td>367</td>\n",
       "      <td>0</td>\n",
       "      <td>https://scontent-iad3-1.cdninstagram.com/v/t51...</td>\n",
       "      <td>367</td>\n",
       "      <td>2023-03-29_12-05-46</td>\n",
       "      <td>19</td>\n",
       "      <td>Wednesday</td>\n",
       "      <td>3</td>\n",
       "    </tr>\n",
       "    <tr>\n",
       "      <th>3</th>\n",
       "      <td>3</td>\n",
       "      <td>3</td>\n",
       "      <td>0</td>\n",
       "      <td>0.999225</td>\n",
       "      <td>marketing, vindes, ga, kalo, rolls_royce, seri...</td>\n",
       "      <td>['matte', 'mpa', 'mol', 'itl', 'event', 'budge...</td>\n",
       "      <td>2023-03-28 20:22:34</td>\n",
       "      <td>422</td>\n",
       "      <td>10</td>\n",
       "      <td>https://scontent-iad3-2.cdninstagram.com/v/t51...</td>\n",
       "      <td>432</td>\n",
       "      <td>2023-03-28_13-22-34</td>\n",
       "      <td>20</td>\n",
       "      <td>Tuesday</td>\n",
       "      <td>2</td>\n",
       "    </tr>\n",
       "    <tr>\n",
       "      <th>4</th>\n",
       "      <td>4</td>\n",
       "      <td>4</td>\n",
       "      <td>0</td>\n",
       "      <td>0.999169</td>\n",
       "      <td>marketing, vindes, ga, kalo, rolls_royce, seri...</td>\n",
       "      <td>['strategi', 'tebokbulu', 'tibatibatenis', 'ev...</td>\n",
       "      <td>2023-03-27 20:00:00</td>\n",
       "      <td>8177</td>\n",
       "      <td>162</td>\n",
       "      <td>https://scontent-iad3-1.cdninstagram.com/v/t51...</td>\n",
       "      <td>8339</td>\n",
       "      <td>2023-03-27_13-00-00</td>\n",
       "      <td>20</td>\n",
       "      <td>Monday</td>\n",
       "      <td>1</td>\n",
       "    </tr>\n",
       "    <tr>\n",
       "      <th>...</th>\n",
       "      <td>...</td>\n",
       "      <td>...</td>\n",
       "      <td>...</td>\n",
       "      <td>...</td>\n",
       "      <td>...</td>\n",
       "      <td>...</td>\n",
       "      <td>...</td>\n",
       "      <td>...</td>\n",
       "      <td>...</td>\n",
       "      <td>...</td>\n",
       "      <td>...</td>\n",
       "      <td>...</td>\n",
       "      <td>...</td>\n",
       "      <td>...</td>\n",
       "      <td>...</td>\n",
       "    </tr>\n",
       "    <tr>\n",
       "      <th>70</th>\n",
       "      <td>70</td>\n",
       "      <td>70</td>\n",
       "      <td>8</td>\n",
       "      <td>0.997979</td>\n",
       "      <td>perusahaan, pemilik, kaya, total_kekayaan_mili...</td>\n",
       "      <td>['permen', 'cokelat', 'susu', 'daftar', 'orang...</td>\n",
       "      <td>2023-01-06 21:34:51</td>\n",
       "      <td>3443</td>\n",
       "      <td>57</td>\n",
       "      <td>https://scontent-iad3-1.cdninstagram.com/v/t51...</td>\n",
       "      <td>3500</td>\n",
       "      <td>2023-01-06_14-34-51</td>\n",
       "      <td>21</td>\n",
       "      <td>Friday</td>\n",
       "      <td>5</td>\n",
       "    </tr>\n",
       "    <tr>\n",
       "      <th>71</th>\n",
       "      <td>71</td>\n",
       "      <td>71</td>\n",
       "      <td>3</td>\n",
       "      <td>0.998796</td>\n",
       "      <td>humor, kalo, orang, ga, marketing, bikin, bran...</td>\n",
       "      <td>['riset', 'mckinsey', 'pandemi', 'covid', 'bik...</td>\n",
       "      <td>2023-01-05 21:59:01</td>\n",
       "      <td>798</td>\n",
       "      <td>32</td>\n",
       "      <td>https://scontent-iad3-1.cdninstagram.com/v/t51...</td>\n",
       "      <td>830</td>\n",
       "      <td>2023-01-05_14-59-01</td>\n",
       "      <td>21</td>\n",
       "      <td>Thursday</td>\n",
       "      <td>4</td>\n",
       "    </tr>\n",
       "    <tr>\n",
       "      <th>72</th>\n",
       "      <td>72</td>\n",
       "      <td>72</td>\n",
       "      <td>2</td>\n",
       "      <td>0.825560</td>\n",
       "      <td>marketing, ga, ads, kalo, kol, bikin, bisnis, ...</td>\n",
       "      <td>['bisnis', 'ngerasa', 'kalo', 'marl', 'cm', 'l...</td>\n",
       "      <td>2023-01-04 21:07:13</td>\n",
       "      <td>1281</td>\n",
       "      <td>43</td>\n",
       "      <td>https://scontent-iad3-1.cdninstagram.com/v/t51...</td>\n",
       "      <td>1324</td>\n",
       "      <td>2023-01-04_14-07-13</td>\n",
       "      <td>21</td>\n",
       "      <td>Wednesday</td>\n",
       "      <td>3</td>\n",
       "    </tr>\n",
       "    <tr>\n",
       "      <th>73</th>\n",
       "      <td>73</td>\n",
       "      <td>73</td>\n",
       "      <td>3</td>\n",
       "      <td>0.998773</td>\n",
       "      <td>humor, kalo, orang, ga, marketing, bikin, bran...</td>\n",
       "      <td>['data', 'hbr', 'bilang', 'orang', 'ngerasa', ...</td>\n",
       "      <td>2023-01-03 21:53:12</td>\n",
       "      <td>924</td>\n",
       "      <td>30</td>\n",
       "      <td>https://scontent-iad3-2.cdninstagram.com/v/t51...</td>\n",
       "      <td>954</td>\n",
       "      <td>2023-01-03_14-53-12</td>\n",
       "      <td>21</td>\n",
       "      <td>Tuesday</td>\n",
       "      <td>2</td>\n",
       "    </tr>\n",
       "    <tr>\n",
       "      <th>74</th>\n",
       "      <td>74</td>\n",
       "      <td>74</td>\n",
       "      <td>7</td>\n",
       "      <td>0.997900</td>\n",
       "      <td>marketing, ga, iklan, orang, kalo, campaign, b...</td>\n",
       "      <td>['sejarah', 'uma', 'manusia', 'masehi', 'abis'...</td>\n",
       "      <td>2023-01-01 21:53:34</td>\n",
       "      <td>1496</td>\n",
       "      <td>36</td>\n",
       "      <td>https://scontent-iad3-1.cdninstagram.com/v/t51...</td>\n",
       "      <td>1532</td>\n",
       "      <td>2023-01-01_14-53-34</td>\n",
       "      <td>21</td>\n",
       "      <td>Sunday</td>\n",
       "      <td>7</td>\n",
       "    </tr>\n",
       "  </tbody>\n",
       "</table>\n",
       "<p>75 rows × 15 columns</p>\n",
       "</div>"
      ],
      "text/plain": [
       "    index  Document_No  Dominant_Topic  Topic_Perc_Contrib  \\\n",
       "0       0            0               7            0.999171   \n",
       "1       1            1               7            0.999147   \n",
       "2       2            2               4            0.793028   \n",
       "3       3            3               0            0.999225   \n",
       "4       4            4               0            0.999169   \n",
       "..    ...          ...             ...                 ...   \n",
       "70     70           70               8            0.997979   \n",
       "71     71           71               3            0.998796   \n",
       "72     72           72               2            0.825560   \n",
       "73     73           73               3            0.998773   \n",
       "74     74           74               7            0.997900   \n",
       "\n",
       "                                             Keywords  \\\n",
       "0   marketing, ga, iklan, orang, kalo, campaign, b...   \n",
       "1   marketing, ga, iklan, orang, kalo, campaign, b...   \n",
       "2   campaign, marketing, orang, iklan, ga, bikin, ...   \n",
       "3   marketing, vindes, ga, kalo, rolls_royce, seri...   \n",
       "4   marketing, vindes, ga, kalo, rolls_royce, seri...   \n",
       "..                                                ...   \n",
       "70  perusahaan, pemilik, kaya, total_kekayaan_mili...   \n",
       "71  humor, kalo, orang, ga, marketing, bikin, bran...   \n",
       "72  marketing, ga, ads, kalo, kol, bikin, bisnis, ...   \n",
       "73  humor, kalo, orang, ga, marketing, bikin, bran...   \n",
       "74  marketing, ga, iklan, orang, kalo, campaign, b...   \n",
       "\n",
       "                                                 Text                 Date  \\\n",
       "0   ['aqua', 'yonex', 'toyota', 'puluhan', 'brand'...  2023-03-31 21:37:34   \n",
       "1   ['aou', 'mota', 'kerjasama', 'adidas', 'kanye'...  2023-03-30 19:50:26   \n",
       "2   ['data', 'forbes', 'partnership', 'bisnis', 'g...  2023-03-29 19:05:46   \n",
       "3   ['matte', 'mpa', 'mol', 'itl', 'event', 'budge...  2023-03-28 20:22:34   \n",
       "4   ['strategi', 'tebokbulu', 'tibatibatenis', 'ev...  2023-03-27 20:00:00   \n",
       "..                                                ...                  ...   \n",
       "70  ['permen', 'cokelat', 'susu', 'daftar', 'orang...  2023-01-06 21:34:51   \n",
       "71  ['riset', 'mckinsey', 'pandemi', 'covid', 'bik...  2023-01-05 21:59:01   \n",
       "72  ['bisnis', 'ngerasa', 'kalo', 'marl', 'cm', 'l...  2023-01-04 21:07:13   \n",
       "73  ['data', 'hbr', 'bilang', 'orang', 'ngerasa', ...  2023-01-03 21:53:12   \n",
       "74  ['sejarah', 'uma', 'manusia', 'masehi', 'abis'...  2023-01-01 21:53:34   \n",
       "\n",
       "    likes  comments                                                url  \\\n",
       "0    5390        59  https://scontent-iad3-2.cdninstagram.com/v/t51...   \n",
       "1     776         7  https://scontent-iad3-1.cdninstagram.com/v/t51...   \n",
       "2     367         0  https://scontent-iad3-1.cdninstagram.com/v/t51...   \n",
       "3     422        10  https://scontent-iad3-2.cdninstagram.com/v/t51...   \n",
       "4    8177       162  https://scontent-iad3-1.cdninstagram.com/v/t51...   \n",
       "..    ...       ...                                                ...   \n",
       "70   3443        57  https://scontent-iad3-1.cdninstagram.com/v/t51...   \n",
       "71    798        32  https://scontent-iad3-1.cdninstagram.com/v/t51...   \n",
       "72   1281        43  https://scontent-iad3-1.cdninstagram.com/v/t51...   \n",
       "73    924        30  https://scontent-iad3-2.cdninstagram.com/v/t51...   \n",
       "74   1496        36  https://scontent-iad3-1.cdninstagram.com/v/t51...   \n",
       "\n",
       "    engagement                   Id  Hour   Day Name  Day Number  \n",
       "0         5449  2023-03-31_14-37-34    21     Friday           5  \n",
       "1          783  2023-03-30_12-50-26    19   Thursday           4  \n",
       "2          367  2023-03-29_12-05-46    19  Wednesday           3  \n",
       "3          432  2023-03-28_13-22-34    20    Tuesday           2  \n",
       "4         8339  2023-03-27_13-00-00    20     Monday           1  \n",
       "..         ...                  ...   ...        ...         ...  \n",
       "70        3500  2023-01-06_14-34-51    21     Friday           5  \n",
       "71         830  2023-01-05_14-59-01    21   Thursday           4  \n",
       "72        1324  2023-01-04_14-07-13    21  Wednesday           3  \n",
       "73         954  2023-01-03_14-53-12    21    Tuesday           2  \n",
       "74        1532  2023-01-01_14-53-34    21     Sunday           7  \n",
       "\n",
       "[75 rows x 15 columns]"
      ]
     },
     "execution_count": 6,
     "metadata": {},
     "output_type": "execute_result"
    }
   ],
   "source": [
    "dnvb_topic_date"
   ]
  },
  {
   "cell_type": "code",
   "execution_count": 7,
   "metadata": {},
   "outputs": [
    {
     "data": {
      "text/plain": [
       "Index(['index', 'Document_No', 'Dominant_Topic', 'Topic_Perc_Contrib',\n",
       "       'Keywords', 'Text', 'Date', 'likes', 'comments', 'url', 'engagement',\n",
       "       'Id', 'Hour', 'Day Name', 'Day Number'],\n",
       "      dtype='object')"
      ]
     },
     "execution_count": 7,
     "metadata": {},
     "output_type": "execute_result"
    }
   ],
   "source": [
    "dnvb_topic.columns"
   ]
  },
  {
   "cell_type": "code",
   "execution_count": 8,
   "metadata": {},
   "outputs": [],
   "source": [
    "len(dnvb_topic['Dominant_Topic'].unique())\n",
    "\n",
    "import glob\n",
    "import os"
   ]
  },
  {
   "cell_type": "code",
   "execution_count": 9,
   "metadata": {},
   "outputs": [],
   "source": [
    "dnvb_path = '/workspaces/sma-plan2/instagram/dnvb.id'"
   ]
  },
  {
   "cell_type": "code",
   "execution_count": 10,
   "metadata": {},
   "outputs": [
    {
     "name": "stdout",
     "output_type": "stream",
     "text": [
      "[['marketing', 'ga', 'iklan', 'orang'], ['marketing', 'ga', 'iklan', 'orang'], ['campaign', 'marketing', 'orang', 'iklan'], ['marketing', 'vindes', 'ga', 'kalo'], ['marketing', 'vindes', 'ga', 'kalo'], ['marketing', 'brand', 'kol', 'ga'], ['marketing', 'brand', 'kol', 'ga'], ['marketing', 'brand', 'kol', 'ga'], ['marketing', 'vindes', 'ga', 'kalo'], ['marketing', 'brand', 'kol', 'ga'], ['marketing', 'brand', 'kol', 'ga'], ['marketing', 'brand', 'kol', 'ga'], ['humor', 'kalo', 'orang', 'ga'], ['humor', 'kalo', 'orang', 'ga'], ['campaign', 'kalo', 'ads', 'cpas'], ['marketing', 'brand', 'kol', 'ga'], ['campaign', 'kalo', 'ads', 'cpas'], ['marketing', 'ga', 'iklan', 'orang'], ['marketing', 'vindes', 'ga', 'kalo'], ['marketing', 'brand', 'kol', 'ga'], ['campaign', 'marketing', 'orang', 'iklan'], ['campaign', 'marketing', 'orang', 'iklan'], ['marketing', 'vindes', 'ga', 'kalo'], ['marketing', 'ga', 'iklan', 'orang'], ['marketing', 'ga', 'ads', 'kalo'], ['campaign', 'marketing', 'orang', 'iklan'], ['campaign', 'marketing', 'orang', 'iklan'], ['marketing', 'vindes', 'ga', 'kalo'], ['campaign', 'marketing', 'orang', 'iklan'], ['marketing', 'ga', 'iklan', 'orang'], ['campaign', 'marketing', 'orang', 'iklan'], ['marketing', 'vindes', 'ga', 'kalo'], ['marketing', 'vindes', 'ga', 'kalo'], ['campaign', 'kalo', 'ads', 'cpas'], ['marketing', 'ga', 'ads', 'kalo'], ['marketing', 'brand', 'kol', 'ga'], ['marketing', 'ga', 'ads', 'kalo'], ['marketing', 'ga', 'ads', 'kalo'], ['marketing', 'vindes', 'ga', 'kalo'], ['marketing', 'ga', 'ads', 'kalo'], ['marketing', 'ga', 'iklan', 'orang'], ['marketing', 'brand', 'kol', 'ga'], ['marketing', 'ga', 'ads', 'kalo'], ['marketing', 'vindes', 'ga', 'kalo'], ['marketing', 'ga', 'iklan', 'orang'], ['influencer', 'kol', 'ga', 'follower'], ['marketing', 'ga', 'ads', 'kalo'], ['marketing', 'ga', 'ads', 'kalo'], ['marketing', 'ga', 'ads', 'kalo'], ['humor', 'kalo', 'orang', 'ga'], ['humor', 'kalo', 'orang', 'ga'], ['marketing', 'ga', 'ads', 'kalo'], ['humor', 'kalo', 'orang', 'ga'], ['marketing', 'brand', 'kol', 'ga'], ['marketing', 'brand', 'kol', 'ga'], ['marketing', 'brand', 'kol', 'ga'], ['marketing', 'ga', 'iklan', 'orang'], ['campaign', 'marketing', 'orang', 'iklan'], ['marketing', 'ga', 'ads', 'kalo'], ['marketing', 'ga', 'iklan', 'orang'], ['marketing', 'ga', 'iklan', 'orang'], ['marketing', 'brand', 'kol', 'ga'], ['marketing', 'brand', 'kol', 'ga'], ['campaign', 'marketing', 'orang', 'iklan'], ['marketing', 'ga', 'ads', 'kalo'], ['marketing', 'brand', 'kol', 'ga'], ['marketing', 'ga', 'ads', 'kalo'], ['marketing', 'ga', 'ads', 'kalo'], ['marketing', 'ga', 'iklan', 'orang'], ['marketing', 'ga', 'iklan', 'orang'], ['perusahaan', 'pemilik', 'kaya', 'total_kekayaan_miliar'], ['humor', 'kalo', 'orang', 'ga'], ['marketing', 'ga', 'ads', 'kalo'], ['humor', 'kalo', 'orang', 'ga'], ['marketing', 'ga', 'iklan', 'orang']]\n"
     ]
    }
   ],
   "source": [
    "def get_topics_thread(df, length=4):\n",
    "    df_topics = df[\"Keywords\"].str.split(',').apply(lambda x: [word.strip() for word in x[:length]]).to_list()\n",
    "    return df_topics\n",
    "\n",
    "print(get_topics_thread(dnvb_topic))"
   ]
  },
  {
   "cell_type": "code",
   "execution_count": 11,
   "metadata": {},
   "outputs": [
    {
     "name": "stdout",
     "output_type": "stream",
     "text": [
      "2023-03-27_13-00-00_UTC_1.jpg\n"
     ]
    }
   ],
   "source": [
    "text = '/workspaces/sma-plan2/instagram/dnvb.id/2023-03-27_13-00-00_UTC_1.jpg'\n",
    "print(text.split('/')[-1])"
   ]
  },
  {
   "cell_type": "code",
   "execution_count": 12,
   "metadata": {},
   "outputs": [],
   "source": [
    "def get_static_engagement_images(img_list, path):\n",
    "    res = []\n",
    "\n",
    "    for i in img_list:\n",
    "        result = []\n",
    "        for j in i:\n",
    "            temp = glob.glob(os.path.join(path, f\"{j}*1.jpg\"))\n",
    "            temp = ''.join(temp)\n",
    "            if not temp:\n",
    "                result.append(os.path.join(path, f\"{j}_UTC.jpg\"))\n",
    "            else:\n",
    "                result.append(temp)\n",
    "        res.append(result)\n",
    "\n",
    "    return res"
   ]
  },
  {
   "cell_type": "code",
   "execution_count": 13,
   "metadata": {},
   "outputs": [],
   "source": [
    "def get_engagement_images(df):\n",
    "    temp_df = df.copy()\n",
    "    temp_df['Id'] = temp_df['Id'].apply(lambda x: x.replace(' ', '_').replace(':', '-'))\n",
    "\n",
    "    result = []\n",
    "\n",
    "    for i in range(len(df.Dominant_Topic.unique())):\n",
    "        temp = temp_df[temp_df.Dominant_Topic==i].sort_values('engagement', ascending=False)[:3]['Id'].to_list()\n",
    "        result.append(temp)\n",
    "\n",
    "    return get_static_engagement_images(result, dnvb_path)\n"
   ]
  },
  {
   "cell_type": "code",
   "execution_count": 14,
   "metadata": {},
   "outputs": [],
   "source": [
    "def get_engagement_likes(df):\n",
    "    temp_df = df.copy()\n",
    "\n",
    "    result = []\n",
    "\n",
    "    for i in range(len(df.Dominant_Topic.unique())):\n",
    "        temp = temp_df[temp_df.Dominant_Topic==i].sort_values('engagement', ascending=False)[:3]['likes'].to_list()\n",
    "        result.append(temp)\n",
    "\n",
    "    return result\n"
   ]
  },
  {
   "cell_type": "code",
   "execution_count": null,
   "metadata": {},
   "outputs": [],
   "source": [
    "def get_single_engagement_likes(df):\n",
    "    temp_df = df.copy()\n",
    "\n",
    "    result = []\n",
    "\n",
    "    for i in range(len(df.Dominant_Topic.unique())):\n",
    "        temp = temp_df[temp_df.Dominant_Topic==i].sort_values('engagement', ascending=False)[0]['likes']\n",
    "        result.append(temp)\n",
    "\n",
    "    return result\n"
   ]
  },
  {
   "cell_type": "code",
   "execution_count": 15,
   "metadata": {},
   "outputs": [],
   "source": [
    "def get_engagement_comments(df):\n",
    "    temp_df = df.copy()\n",
    "\n",
    "    result = []\n",
    "\n",
    "    for i in range(len(df.Dominant_Topic.unique())):\n",
    "        temp = temp_df[temp_df.Dominant_Topic==i].sort_values('engagement', ascending=False)[:3]['comments'].to_list()\n",
    "        result.append(temp)\n",
    "\n",
    "    return result"
   ]
  },
  {
   "cell_type": "code",
   "execution_count": 16,
   "metadata": {},
   "outputs": [],
   "source": [
    "def get_static_engagement_images(img_list, path):\n",
    "    res = []\n",
    "\n",
    "    for i in img_list:\n",
    "        result = []\n",
    "        for j in i:\n",
    "            temp = glob.glob(os.path.join(path, f\"{j}*1.jpg\"))\n",
    "            temp = ''.join(temp)\n",
    "            if not temp:\n",
    "                result.append(os.path.join(path, f\"{j}_UTC.jpg\"))\n",
    "            else:\n",
    "                result.append(temp)\n",
    "        res.append(result)\n",
    "\n",
    "    return res"
   ]
  },
  {
   "cell_type": "code",
   "execution_count": 17,
   "metadata": {},
   "outputs": [],
   "source": [
    "topic_images = get_engagement_images(dnvb_topic)\n",
    "topic_likes = get_engagement_likes(dnvb_topic)\n",
    "topic_comments = get_engagement_comments(dnvb_topic)"
   ]
  },
  {
   "cell_type": "code",
   "execution_count": 18,
   "metadata": {},
   "outputs": [
    {
     "name": "stdout",
     "output_type": "stream",
     "text": [
      "[['/workspaces/sma-plan2/instagram/dnvb.id/2023-03-27_13-00-00_UTC_1.jpg', '/workspaces/sma-plan2/instagram/dnvb.id/2023-03-10_12-27-11_UTC_1.jpg', '/workspaces/sma-plan2/instagram/dnvb.id/2023-02-21_10-57-38_UTC.jpg'], ['/workspaces/sma-plan2/instagram/dnvb.id/2023-03-15_12-54-17_UTC_1.jpg', '/workspaces/sma-plan2/instagram/dnvb.id/2023-01-20_12-46-12_UTC_1.jpg', '/workspaces/sma-plan2/instagram/dnvb.id/2023-02-17_13-20-38_UTC_1.jpg'], ['/workspaces/sma-plan2/instagram/dnvb.id/2023-02-22_11-07-13_UTC.jpg', '/workspaces/sma-plan2/instagram/dnvb.id/2023-01-17_13-11-55_UTC_1.jpg', '/workspaces/sma-plan2/instagram/dnvb.id/2023-02-06_14-00-06_UTC_1.jpg'], ['/workspaces/sma-plan2/instagram/dnvb.id/2023-02-08_02-40-11_UTC_1.jpg', '/workspaces/sma-plan2/instagram/dnvb.id/2023-02-03_13-24-21_UTC_1.jpg', '/workspaces/sma-plan2/instagram/dnvb.id/2023-03-17_14-14-27_UTC_1.jpg'], ['/workspaces/sma-plan2/instagram/dnvb.id/2023-03-06_14-46-27_UTC_1.jpg', '/workspaces/sma-plan2/instagram/dnvb.id/2023-03-08_12-47-20_UTC_1.jpg', '/workspaces/sma-plan2/instagram/dnvb.id/2023-03-09_13-23-02_UTC_1.jpg'], ['/workspaces/sma-plan2/instagram/dnvb.id/2023-02-14_15-06-59_UTC_1.jpg'], ['/workspaces/sma-plan2/instagram/dnvb.id/2023-02-24_14-26-48_UTC_1.jpg', '/workspaces/sma-plan2/instagram/dnvb.id/2023-03-15_14-03-58_UTC_1.jpg', '/workspaces/sma-plan2/instagram/dnvb.id/2023-03-15_11-48-35_UTC.jpg'], ['/workspaces/sma-plan2/instagram/dnvb.id/2023-01-30_14-14-57_UTC_1.jpg', '/workspaces/sma-plan2/instagram/dnvb.id/2023-03-14_14-09-23_UTC_1.jpg', '/workspaces/sma-plan2/instagram/dnvb.id/2023-03-31_14-37-34_UTC_1.jpg'], ['/workspaces/sma-plan2/instagram/dnvb.id/2023-01-06_14-34-51_UTC_1.jpg']]\n",
      "[[8177, 1441, 917], [6991, 3841, 3254], [7536, 7015, 5557], [2894, 2727, 2254], [3914, 2760, 2688], [1799], [869, 363, 238], [20633, 6967, 5390], [3443]]\n",
      "[[162, 13, 22], [120, 47, 52], [78, 124, 96], [26, 45, 12], [82, 43, 28], [30], [29, 34, 3], [334, 80, 59], [57]]\n"
     ]
    }
   ],
   "source": [
    "print(topic_images)\n",
    "print(topic_likes)\n",
    "print(topic_comments)"
   ]
  },
  {
   "cell_type": "code",
   "execution_count": 28,
   "metadata": {},
   "outputs": [
    {
     "data": {
      "text/plain": [
       "[((1, 'aku'),\n",
       "  ([8177, 1441, 917],\n",
       "   [162, 13, 22],\n",
       "   ['/workspaces/sma-plan2/instagram/dnvb.id/2023-03-27_13-00-00_UTC_1.jpg',\n",
       "    '/workspaces/sma-plan2/instagram/dnvb.id/2023-03-10_12-27-11_UTC_1.jpg',\n",
       "    '/workspaces/sma-plan2/instagram/dnvb.id/2023-02-21_10-57-38_UTC.jpg'])),\n",
       " ((2, 'suka'),\n",
       "  ([6991, 3841, 3254],\n",
       "   [120, 47, 52],\n",
       "   ['/workspaces/sma-plan2/instagram/dnvb.id/2023-03-15_12-54-17_UTC_1.jpg',\n",
       "    '/workspaces/sma-plan2/instagram/dnvb.id/2023-01-20_12-46-12_UTC_1.jpg',\n",
       "    '/workspaces/sma-plan2/instagram/dnvb.id/2023-02-17_13-20-38_UTC_1.jpg'])),\n",
       " ((3, 'kayang'),\n",
       "  ([7536, 7015, 5557],\n",
       "   [78, 124, 96],\n",
       "   ['/workspaces/sma-plan2/instagram/dnvb.id/2023-02-22_11-07-13_UTC.jpg',\n",
       "    '/workspaces/sma-plan2/instagram/dnvb.id/2023-01-17_13-11-55_UTC_1.jpg',\n",
       "    '/workspaces/sma-plan2/instagram/dnvb.id/2023-02-06_14-00-06_UTC_1.jpg'])),\n",
       " ((4, 'sama'),\n",
       "  ([2894, 2727, 2254],\n",
       "   [26, 45, 12],\n",
       "   ['/workspaces/sma-plan2/instagram/dnvb.id/2023-02-08_02-40-11_UTC_1.jpg',\n",
       "    '/workspaces/sma-plan2/instagram/dnvb.id/2023-02-03_13-24-21_UTC_1.jpg',\n",
       "    '/workspaces/sma-plan2/instagram/dnvb.id/2023-03-17_14-14-27_UTC_1.jpg'])),\n",
       " ((5, 'kamu'),\n",
       "  ([3914, 2760, 2688],\n",
       "   [82, 43, 28],\n",
       "   ['/workspaces/sma-plan2/instagram/dnvb.id/2023-03-06_14-46-27_UTC_1.jpg',\n",
       "    '/workspaces/sma-plan2/instagram/dnvb.id/2023-03-08_12-47-20_UTC_1.jpg',\n",
       "    '/workspaces/sma-plan2/instagram/dnvb.id/2023-03-09_13-23-02_UTC_1.jpg'])),\n",
       " ((6, 'hehee'),\n",
       "  ([1799],\n",
       "   [30],\n",
       "   ['/workspaces/sma-plan2/instagram/dnvb.id/2023-02-14_15-06-59_UTC_1.jpg'])),\n",
       " ((7, 'hehe'),\n",
       "  ([869, 363, 238],\n",
       "   [29, 34, 3],\n",
       "   ['/workspaces/sma-plan2/instagram/dnvb.id/2023-02-24_14-26-48_UTC_1.jpg',\n",
       "    '/workspaces/sma-plan2/instagram/dnvb.id/2023-03-15_14-03-58_UTC_1.jpg',\n",
       "    '/workspaces/sma-plan2/instagram/dnvb.id/2023-03-15_11-48-35_UTC.jpg']))]"
      ]
     },
     "execution_count": 28,
     "metadata": {},
     "output_type": "execute_result"
    }
   ],
   "source": [
    "engagement = list(zip(topic_likes, topic_comments, topic_images))\n",
    "pro1 = [1,2,3,4,5,6,7]\n",
    "pro2 = ['aku','suka','kayang','sama','kamu','hehee','hehe']\n",
    "pros = list(zip(pro1, pro2))\n",
    "mappingan = list(zip(pros, engagement))\n",
    "mappingan"
   ]
  },
  {
   "cell_type": "code",
   "execution_count": 29,
   "metadata": {},
   "outputs": [
    {
     "name": "stdout",
     "output_type": "stream",
     "text": [
      "([8177, 1441, 917], [162, 13, 22], ['/workspaces/sma-plan2/instagram/dnvb.id/2023-03-27_13-00-00_UTC_1.jpg', '/workspaces/sma-plan2/instagram/dnvb.id/2023-03-10_12-27-11_UTC_1.jpg', '/workspaces/sma-plan2/instagram/dnvb.id/2023-02-21_10-57-38_UTC.jpg'])\n",
      "([6991, 3841, 3254], [120, 47, 52], ['/workspaces/sma-plan2/instagram/dnvb.id/2023-03-15_12-54-17_UTC_1.jpg', '/workspaces/sma-plan2/instagram/dnvb.id/2023-01-20_12-46-12_UTC_1.jpg', '/workspaces/sma-plan2/instagram/dnvb.id/2023-02-17_13-20-38_UTC_1.jpg'])\n",
      "([7536, 7015, 5557], [78, 124, 96], ['/workspaces/sma-plan2/instagram/dnvb.id/2023-02-22_11-07-13_UTC.jpg', '/workspaces/sma-plan2/instagram/dnvb.id/2023-01-17_13-11-55_UTC_1.jpg', '/workspaces/sma-plan2/instagram/dnvb.id/2023-02-06_14-00-06_UTC_1.jpg'])\n",
      "([2894, 2727, 2254], [26, 45, 12], ['/workspaces/sma-plan2/instagram/dnvb.id/2023-02-08_02-40-11_UTC_1.jpg', '/workspaces/sma-plan2/instagram/dnvb.id/2023-02-03_13-24-21_UTC_1.jpg', '/workspaces/sma-plan2/instagram/dnvb.id/2023-03-17_14-14-27_UTC_1.jpg'])\n",
      "([3914, 2760, 2688], [82, 43, 28], ['/workspaces/sma-plan2/instagram/dnvb.id/2023-03-06_14-46-27_UTC_1.jpg', '/workspaces/sma-plan2/instagram/dnvb.id/2023-03-08_12-47-20_UTC_1.jpg', '/workspaces/sma-plan2/instagram/dnvb.id/2023-03-09_13-23-02_UTC_1.jpg'])\n",
      "([1799], [30], ['/workspaces/sma-plan2/instagram/dnvb.id/2023-02-14_15-06-59_UTC_1.jpg'])\n",
      "([869, 363, 238], [29, 34, 3], ['/workspaces/sma-plan2/instagram/dnvb.id/2023-02-24_14-26-48_UTC_1.jpg', '/workspaces/sma-plan2/instagram/dnvb.id/2023-03-15_14-03-58_UTC_1.jpg', '/workspaces/sma-plan2/instagram/dnvb.id/2023-03-15_11-48-35_UTC.jpg'])\n"
     ]
    }
   ],
   "source": [
    "for pro, e in mappingan:\n",
    "    print(e)"
   ]
  },
  {
   "cell_type": "code",
   "execution_count": 34,
   "metadata": {},
   "outputs": [
    {
     "name": "stdout",
     "output_type": "stream",
     "text": [
      "8177\n",
      "-----\n",
      "6991\n",
      "-----\n",
      "7536\n",
      "-----\n",
      "2894\n",
      "-----\n",
      "3914\n",
      "-----\n",
      "1799\n",
      "-----\n",
      "869\n",
      "-----\n",
      "20633\n",
      "-----\n",
      "3443\n",
      "-----\n"
     ]
    }
   ],
   "source": [
    "for like, comment, image in engagement:\n",
    "    for l, c, i in \n",
    "    print('-----')"
   ]
  },
  {
   "cell_type": "code",
   "execution_count": 21,
   "metadata": {},
   "outputs": [
    {
     "name": "stdout",
     "output_type": "stream",
     "text": [
      "[8177, 1441, 917]\n",
      "[6991, 3841, 3254]\n",
      "[7536, 7015, 5557]\n",
      "[2894, 2727, 2254]\n",
      "[3914, 2760, 2688]\n",
      "[1799]\n",
      "[869, 363, 238]\n",
      "[20633, 6967, 5390]\n",
      "[3443]\n"
     ]
    }
   ],
   "source": [
    "for e in mapping:\n",
    "    print(e[0])"
   ]
  },
  {
   "cell_type": "code",
   "execution_count": 19,
   "metadata": {},
   "outputs": [
    {
     "name": "stdout",
     "output_type": "stream",
     "text": [
      "/workspaces/sma-plan2/instagram/dnvb.id/2023-01-09_15-54-29_UTC_1.jpg\n",
      "/workspaces/sma-plan2/instagram/dnvb.id/2023-01-11_15-14-12_UTC_1.jpg\n",
      "/workspaces/sma-plan2/instagram/dnvb.id/2023-03-06_14-46-27_UTC_1.jpg\n",
      "/workspaces/sma-plan2/instagram/dnvb.id/2023-01-12_15-04-59_UTC_1.jpg\n",
      "/workspaces/sma-plan2/instagram/dnvb.id/2023-03-09_13-23-02_UTC_1.jpg\n",
      "/workspaces/sma-plan2/instagram/dnvb.id/2023-02-22_11-07-13_UTC.jpg\n",
      "/workspaces/sma-plan2/instagram/dnvb.id/2023-01-31_13-04-59_UTC_1.jpg\n",
      "/workspaces/sma-plan2/instagram/dnvb.id/2023-01-24_13-37-40_UTC_1.jpg\n",
      "/workspaces/sma-plan2/instagram/dnvb.id/2023-01-25_15-22-46_UTC_1.jpg\n",
      "/workspaces/sma-plan2/instagram/dnvb.id/2023-03-27_13-00-00_UTC_1.jpg\n",
      "/workspaces/sma-plan2/instagram/dnvb.id/2023-02-06_14-00-06_UTC_1.jpg\n",
      "/workspaces/sma-plan2/instagram/dnvb.id/2023-03-31_14-37-34_UTC_1.jpg\n",
      "/workspaces/sma-plan2/instagram/dnvb.id/2023-02-17_13-20-38_UTC_1.jpg\n",
      "/workspaces/sma-plan2/instagram/dnvb.id/2023-03-23_12-47-24_UTC_1.jpg\n",
      "/workspaces/sma-plan2/instagram/dnvb.id/2023-02-14_15-06-59_UTC_1.jpg\n",
      "/workspaces/sma-plan2/instagram/dnvb.id/2023-01-30_14-14-57_UTC_1.jpg\n",
      "/workspaces/sma-plan2/instagram/dnvb.id/2023-03-15_12-54-17_UTC_1.jpg\n",
      "/workspaces/sma-plan2/instagram/dnvb.id/2023-03-14_14-09-23_UTC_1.jpg\n",
      "/workspaces/sma-plan2/instagram/dnvb.id/2023-01-06_14-34-51_UTC_1.jpg\n",
      "/workspaces/sma-plan2/instagram/dnvb.id/2023-03-24_14-34-19_UTC_1.jpg\n",
      "/workspaces/sma-plan2/instagram/dnvb.id/2023-03-30_12-50-26_UTC_1.jpg\n",
      "/workspaces/sma-plan2/instagram/dnvb.id/2023-01-17_13-11-55_UTC_1.jpg\n",
      "/workspaces/sma-plan2/instagram/dnvb.id/2023-01-10_13-13-14_UTC_1.jpg\n",
      "/workspaces/sma-plan2/instagram/dnvb.id/2023-02-11_12-53-53_UTC_1.jpg\n"
     ]
    }
   ],
   "source": [
    "for i in topic_images:\n",
    "    for j in i:\n",
    "        print(j)"
   ]
  },
  {
   "cell_type": "code",
   "execution_count": 20,
   "metadata": {},
   "outputs": [],
   "source": [
    "topic_mapping = list(zip(topic_likes, topic_comments, topic_images))"
   ]
  },
  {
   "cell_type": "code",
   "execution_count": 26,
   "metadata": {},
   "outputs": [
    {
     "data": {
      "text/plain": [
       "'/workspaces/sma-plan2/instagram/dnvb.id/2023-01-09_15-54-29_UTC_1.jpg'"
      ]
     },
     "execution_count": 26,
     "metadata": {},
     "output_type": "execute_result"
    }
   ],
   "source": [
    "topic_mapping[0][2][0]"
   ]
  },
  {
   "cell_type": "code",
   "execution_count": 47,
   "metadata": {},
   "outputs": [],
   "source": [
    "def get_single_engagement_likes(df):\n",
    "    temp_df = df.copy()\n",
    "\n",
    "    result = []\n",
    "\n",
    "    for i in range(len(df.Dominant_Topic.unique())):\n",
    "        temp = temp_df[temp_df.Dominant_Topic==i].sort_values('engagement', ascending=False)['likes'].iloc[0]\n",
    "        result.append(temp)\n",
    "\n",
    "    return result\n"
   ]
  },
  {
   "cell_type": "code",
   "execution_count": 62,
   "metadata": {},
   "outputs": [
    {
     "data": {
      "text/plain": [
       "[8177, 6991, 7536, 2894, 3914, 1799, 869, 20633, 3443]"
      ]
     },
     "execution_count": 62,
     "metadata": {},
     "output_type": "execute_result"
    }
   ],
   "source": [
    "likes = get_single_engagement_likes(dnvb_topic)\n",
    "likes"
   ]
  },
  {
   "cell_type": "code",
   "execution_count": 63,
   "metadata": {},
   "outputs": [
    {
     "data": {
      "text/plain": [
       "[162, 120, 78, 26, 82, 30, 29, 334, 57]"
      ]
     },
     "execution_count": 63,
     "metadata": {},
     "output_type": "execute_result"
    }
   ],
   "source": [
    "comments = get_single_engagement_comments(dnvb_topic)\n",
    "comments"
   ]
  },
  {
   "cell_type": "code",
   "execution_count": 50,
   "metadata": {},
   "outputs": [],
   "source": [
    "def get_single_engagement_comments(df):\n",
    "    temp_df = df.copy()\n",
    "\n",
    "    result = []\n",
    "\n",
    "    for i in range(len(df.Dominant_Topic.unique())):\n",
    "        temp = temp_df[temp_df.Dominant_Topic==i].sort_values('engagement', ascending=False)['comments'].iloc[0]\n",
    "        result.append(temp)\n",
    "\n",
    "    return result"
   ]
  },
  {
   "cell_type": "code",
   "execution_count": 54,
   "metadata": {},
   "outputs": [],
   "source": [
    "def get_static_engagement_images(img_list, path=\"/workspaces/sma-plan2/instagram/dnvb.id\"):\n",
    "    res = []\n",
    "\n",
    "    for i in img_list:\n",
    "        temp = glob.glob(os.path.join(path, f\"{i}*1.jpg\"))\n",
    "        if temp :\n",
    "            res.append(os.path.join(path, f\"{i}_UTC_1.jpg\"))\n",
    "        else:\n",
    "            res.append(os.path.join(path, f\"{i}_UTC.jpg\"))\n",
    "\n",
    "    return res"
   ]
  },
  {
   "cell_type": "code",
   "execution_count": 57,
   "metadata": {},
   "outputs": [],
   "source": [
    "def get_single_engagement_images(df):\n",
    "    temp_df = df.copy()\n",
    "    temp_df['Id'] = temp_df['Id'].apply(lambda x: x.replace(' ', '_').replace(':', '-'))\n",
    "\n",
    "    result = []\n",
    "\n",
    "    for i in range(len(df.Dominant_Topic.unique())):\n",
    "        temp = temp_df[temp_df.Dominant_Topic==i].sort_values('engagement', ascending=False)['Id'].iloc[0]\n",
    "        result.append(temp)\n",
    "\n",
    "    return get_static_engagement_images(result, dnvb_path)\n"
   ]
  },
  {
   "cell_type": "code",
   "execution_count": 58,
   "metadata": {},
   "outputs": [
    {
     "data": {
      "text/plain": [
       "['/workspaces/sma-plan2/instagram/dnvb.id/2023-03-27_13-00-00_UTC_1.jpg',\n",
       " '/workspaces/sma-plan2/instagram/dnvb.id/2023-03-15_12-54-17_UTC_1.jpg',\n",
       " '/workspaces/sma-plan2/instagram/dnvb.id/2023-02-22_11-07-13_UTC.jpg',\n",
       " '/workspaces/sma-plan2/instagram/dnvb.id/2023-02-08_02-40-11_UTC_1.jpg',\n",
       " '/workspaces/sma-plan2/instagram/dnvb.id/2023-03-06_14-46-27_UTC_1.jpg',\n",
       " '/workspaces/sma-plan2/instagram/dnvb.id/2023-02-14_15-06-59_UTC_1.jpg',\n",
       " '/workspaces/sma-plan2/instagram/dnvb.id/2023-02-24_14-26-48_UTC_1.jpg',\n",
       " '/workspaces/sma-plan2/instagram/dnvb.id/2023-01-30_14-14-57_UTC_1.jpg',\n",
       " '/workspaces/sma-plan2/instagram/dnvb.id/2023-01-06_14-34-51_UTC_1.jpg']"
      ]
     },
     "execution_count": 58,
     "metadata": {},
     "output_type": "execute_result"
    }
   ],
   "source": [
    "topic_images = get_single_engagement_images(dnvb_topic)\n",
    "topic_images"
   ]
  },
  {
   "cell_type": "code",
   "execution_count": 65,
   "metadata": {},
   "outputs": [
    {
     "data": {
      "text/plain": [
       "[(8177,\n",
       "  162,\n",
       "  '/workspaces/sma-plan2/instagram/dnvb.id/2023-03-27_13-00-00_UTC_1.jpg'),\n",
       " (6991,\n",
       "  120,\n",
       "  '/workspaces/sma-plan2/instagram/dnvb.id/2023-03-15_12-54-17_UTC_1.jpg'),\n",
       " (7536,\n",
       "  78,\n",
       "  '/workspaces/sma-plan2/instagram/dnvb.id/2023-02-22_11-07-13_UTC.jpg'),\n",
       " (2894,\n",
       "  26,\n",
       "  '/workspaces/sma-plan2/instagram/dnvb.id/2023-02-08_02-40-11_UTC_1.jpg'),\n",
       " (3914,\n",
       "  82,\n",
       "  '/workspaces/sma-plan2/instagram/dnvb.id/2023-03-06_14-46-27_UTC_1.jpg'),\n",
       " (1799,\n",
       "  30,\n",
       "  '/workspaces/sma-plan2/instagram/dnvb.id/2023-02-14_15-06-59_UTC_1.jpg'),\n",
       " (869,\n",
       "  29,\n",
       "  '/workspaces/sma-plan2/instagram/dnvb.id/2023-02-24_14-26-48_UTC_1.jpg'),\n",
       " (20633,\n",
       "  334,\n",
       "  '/workspaces/sma-plan2/instagram/dnvb.id/2023-01-30_14-14-57_UTC_1.jpg'),\n",
       " (3443,\n",
       "  57,\n",
       "  '/workspaces/sma-plan2/instagram/dnvb.id/2023-01-06_14-34-51_UTC_1.jpg')]"
      ]
     },
     "execution_count": 65,
     "metadata": {},
     "output_type": "execute_result"
    }
   ],
   "source": [
    "engagement = list(zip(likes, comments, topic_images))\n",
    "engagement"
   ]
  },
  {
   "cell_type": "code",
   "execution_count": 66,
   "metadata": {},
   "outputs": [
    {
     "name": "stdout",
     "output_type": "stream",
     "text": [
      "8177\n",
      "--------------------\n",
      "6991\n",
      "--------------------\n",
      "7536\n",
      "--------------------\n",
      "2894\n",
      "--------------------\n",
      "3914\n",
      "--------------------\n",
      "1799\n",
      "--------------------\n",
      "869\n",
      "--------------------\n",
      "20633\n",
      "--------------------\n",
      "3443\n",
      "--------------------\n"
     ]
    }
   ],
   "source": [
    "for like, comment, image in engagement:\n",
    "    print(like)\n",
    "    print('-'*20)"
   ]
  },
  {
   "cell_type": "code",
   "execution_count": 67,
   "metadata": {},
   "outputs": [],
   "source": [
    "waduh = ['/workspaces/sma-plan2/instagram/dnvb.id/2023-03-27_13-00-00_UTC_1.jpg',\n",
    " '/workspaces/sma-plan2/instagram/dnvb.id/2023-03-15_12-54-17_UTC_1.jpg',\n",
    " '/workspaces/sma-plan2/instagram/dnvb.id/2023-02-22_11-07-13_UTC.jpg',\n",
    " '/workspaces/sma-plan2/instagram/dnvb.id/2023-02-08_02-40-11_UTC_1.jpg',\n",
    " '/workspaces/sma-plan2/instagram/dnvb.id/2023-03-06_14-46-27_UTC_1.jpg',\n",
    " '/workspaces/sma-plan2/instagram/dnvb.id/2023-02-14_15-06-59_UTC_1.jpg',\n",
    " '/workspaces/sma-plan2/instagram/dnvb.id/2023-02-24_14-26-48_UTC_1.jpg',\n",
    " '/workspaces/sma-plan2/instagram/dnvb.id/2023-01-30_14-14-57_UTC_1.jpg',\n",
    " '/workspaces/sma-plan2/instagram/dnvb.id/2023-01-06_14-34-51_UTC_1.jpg']"
   ]
  },
  {
   "cell_type": "code",
   "execution_count": 71,
   "metadata": {},
   "outputs": [
    {
     "data": {
      "text/plain": [
       "list"
      ]
     },
     "execution_count": 71,
     "metadata": {},
     "output_type": "execute_result"
    }
   ],
   "source": [
    "type(engagement)"
   ]
  },
  {
   "cell_type": "code",
   "execution_count": 68,
   "metadata": {},
   "outputs": [
    {
     "data": {
      "text/plain": [
       "['2023-03-27_13-00-00_UTC_1.jpg',\n",
       " '2023-03-15_12-54-17_UTC_1.jpg',\n",
       " '2023-02-22_11-07-13_UTC.jpg',\n",
       " '2023-02-08_02-40-11_UTC_1.jpg',\n",
       " '2023-03-06_14-46-27_UTC_1.jpg',\n",
       " '2023-02-14_15-06-59_UTC_1.jpg',\n",
       " '2023-02-24_14-26-48_UTC_1.jpg',\n",
       " '2023-01-30_14-14-57_UTC_1.jpg',\n",
       " '2023-01-06_14-34-51_UTC_1.jpg']"
      ]
     },
     "execution_count": 68,
     "metadata": {},
     "output_type": "execute_result"
    }
   ],
   "source": [
    "aduh = [x.split('/')[-1] for x in waduh]\n",
    "aduh"
   ]
  },
  {
   "cell_type": "code",
   "execution_count": 1,
   "metadata": {},
   "outputs": [
    {
     "data": {
      "text/html": [
       "<div>\n",
       "<style scoped>\n",
       "    .dataframe tbody tr th:only-of-type {\n",
       "        vertical-align: middle;\n",
       "    }\n",
       "\n",
       "    .dataframe tbody tr th {\n",
       "        vertical-align: top;\n",
       "    }\n",
       "\n",
       "    .dataframe thead th {\n",
       "        text-align: right;\n",
       "    }\n",
       "</style>\n",
       "<table border=\"1\" class=\"dataframe\">\n",
       "  <thead>\n",
       "    <tr style=\"text-align: right;\">\n",
       "      <th></th>\n",
       "      <th>Dominant_Topic</th>\n",
       "      <th>Keywords</th>\n",
       "      <th>Engagement</th>\n",
       "      <th>Count</th>\n",
       "    </tr>\n",
       "  </thead>\n",
       "  <tbody>\n",
       "    <tr>\n",
       "      <th>0</th>\n",
       "      <td>0</td>\n",
       "      <td>marketing, vindes, ga, kalo, rolls_royce, seri...</td>\n",
       "      <td>1341.700000</td>\n",
       "      <td>10</td>\n",
       "    </tr>\n",
       "    <tr>\n",
       "      <th>1</th>\n",
       "      <td>1</td>\n",
       "      <td>marketing, brand, kol, ga, customer, kalo, inf...</td>\n",
       "      <td>2000.187500</td>\n",
       "      <td>16</td>\n",
       "    </tr>\n",
       "    <tr>\n",
       "      <th>2</th>\n",
       "      <td>2</td>\n",
       "      <td>marketing, ga, ads, kalo, kol, bikin, bisnis, ...</td>\n",
       "      <td>2510.400000</td>\n",
       "      <td>15</td>\n",
       "    </tr>\n",
       "    <tr>\n",
       "      <th>3</th>\n",
       "      <td>3</td>\n",
       "      <td>humor, kalo, orang, ga, marketing, bikin, bran...</td>\n",
       "      <td>1832.857143</td>\n",
       "      <td>7</td>\n",
       "    </tr>\n",
       "    <tr>\n",
       "      <th>4</th>\n",
       "      <td>4</td>\n",
       "      <td>campaign, marketing, orang, iklan, ga, bikin, ...</td>\n",
       "      <td>1786.000000</td>\n",
       "      <td>9</td>\n",
       "    </tr>\n",
       "  </tbody>\n",
       "</table>\n",
       "</div>"
      ],
      "text/plain": [
       "   Dominant_Topic                                           Keywords  \\\n",
       "0               0  marketing, vindes, ga, kalo, rolls_royce, seri...   \n",
       "1               1  marketing, brand, kol, ga, customer, kalo, inf...   \n",
       "2               2  marketing, ga, ads, kalo, kol, bikin, bisnis, ...   \n",
       "3               3  humor, kalo, orang, ga, marketing, bikin, bran...   \n",
       "4               4  campaign, marketing, orang, iklan, ga, bikin, ...   \n",
       "\n",
       "    Engagement  Count  \n",
       "0  1341.700000     10  \n",
       "1  2000.187500     16  \n",
       "2  2510.400000     15  \n",
       "3  1832.857143      7  \n",
       "4  1786.000000      9  "
      ]
     },
     "execution_count": 1,
     "metadata": {},
     "output_type": "execute_result"
    }
   ],
   "source": [
    "import pandas as pd\n",
    "\n",
    "df = pd.read_csv('/workspaces/sma-plan2/instagram/dnvb.id/dnvb.id_cat.csv')\n",
    "df.head()"
   ]
  },
  {
   "cell_type": "code",
   "execution_count": 3,
   "metadata": {},
   "outputs": [
    {
     "data": {
      "text/plain": [
       "['campaign, kalo, ads, cpas, roas, meta, kak_jenzo, ngiklan, bikin, nge',\n",
       " 'campaign, marketing, orang, iklan, ga, bikin, brand, go_jek, data, copywriting',\n",
       " 'humor, kalo, orang, ga, marketing, bikin, brand, pake, tim, sales',\n",
       " 'influencer, kol, ga, follower, micro_nano, kalo, endorse, marketing, audiencenya, artis',\n",
       " 'marketing, brand, kol, ga, customer, kalo, influencer, bikin, iklan, orang',\n",
       " 'marketing, ga, ads, kalo, kol, bikin, bisnis, produk, konten, sales',\n",
       " 'marketing, ga, iklan, orang, kalo, campaign, bikin, konten, brand, humor',\n",
       " 'marketing, vindes, ga, kalo, rolls_royce, series_none_none, none_none_none_none, none_none, dnvb, event',\n",
       " 'perusahaan, pemilik, kaya, total_kekayaan_miliar, peringkat_perusahan, susu, dunia, permen, ga, dnvb']"
      ]
     },
     "execution_count": 3,
     "metadata": {},
     "output_type": "execute_result"
    }
   ],
   "source": [
    "sorted(df.Keywords.unique())"
   ]
  },
  {
   "cell_type": "code",
   "execution_count": 6,
   "metadata": {},
   "outputs": [],
   "source": [
    "from bokeh.transform import factor_cmap\n",
    "from bokeh.palettes import d3\n",
    "\n",
    "\n",
    "topic_count = df['Dominant_Topic'].nunique()\n",
    "if topic_count > 2:\n",
    "  color = d3['Category20'][topic_count]\n",
    "else:  \n",
    "  color = ('#1f77b4', '#aec7e8')"
   ]
  },
  {
   "cell_type": "code",
   "execution_count": 7,
   "metadata": {},
   "outputs": [
    {
     "data": {
      "text/plain": [
       "('#1f77b4',\n",
       " '#aec7e8',\n",
       " '#ff7f0e',\n",
       " '#ffbb78',\n",
       " '#2ca02c',\n",
       " '#98df8a',\n",
       " '#d62728',\n",
       " '#ff9896',\n",
       " '#9467bd')"
      ]
     },
     "execution_count": 7,
     "metadata": {},
     "output_type": "execute_result"
    }
   ],
   "source": [
    "color"
   ]
  },
  {
   "cell_type": "code",
   "execution_count": 9,
   "metadata": {},
   "outputs": [],
   "source": [
    "color_pallete = factor_cmap('Keywords', palette=color,\n",
    "                            factors=sorted(df.Keywords.unique()))"
   ]
  },
  {
   "cell_type": "code",
   "execution_count": 11,
   "metadata": {},
   "outputs": [
    {
     "data": {
      "text/html": [
       "<div style=\"display: table;\"><div style=\"display: table-row;\"><div style=\"display: table-cell;\"><b title=\"bokeh.models.mappers.CategoricalColorMapper\">CategoricalColorMapper</b>(</div><div style=\"display: table-cell;\">id&nbsp;=&nbsp;'1001', <span id=\"1003\" style=\"cursor: pointer;\">&hellip;)</span></div></div><div class=\"1002\" style=\"display: none;\"><div style=\"display: table-cell;\"></div><div style=\"display: table-cell;\">end&nbsp;=&nbsp;None,</div></div><div class=\"1002\" style=\"display: none;\"><div style=\"display: table-cell;\"></div><div style=\"display: table-cell;\">factors&nbsp;=&nbsp;['campaign, kalo, ads, cpas, roas, meta, kak_jenzo, ngiklan, bikin, nge', 'campaign, marketing, orang, iklan, ga, bikin, brand, go_jek, data, copywriting', 'humor, kalo, orang, ga, marketing, bikin, brand, pake, tim, sales', 'influencer, kol, ga, follower, micro_nano, kalo, endorse, marketing, audiencenya, artis', 'marketing, brand, kol, ga, customer, kalo, influencer, bikin, iklan, orang', 'marketing, ga, ads, kalo, kol, bikin, bisnis, produk, konten, sales', 'marketing, ga, iklan, orang, kalo, campaign, bikin, konten, brand, humor', 'marketing, vindes, ga, kalo, rolls_royce, series_none_none, none_none_none_none, none_none, dnvb, event', 'perusahaan, pemilik, kaya, total_kekayaan_miliar, peringkat_perusahan, susu, dunia, permen, ga, dnvb'],</div></div><div class=\"1002\" style=\"display: none;\"><div style=\"display: table-cell;\"></div><div style=\"display: table-cell;\">js_event_callbacks&nbsp;=&nbsp;{},</div></div><div class=\"1002\" style=\"display: none;\"><div style=\"display: table-cell;\"></div><div style=\"display: table-cell;\">js_property_callbacks&nbsp;=&nbsp;{},</div></div><div class=\"1002\" style=\"display: none;\"><div style=\"display: table-cell;\"></div><div style=\"display: table-cell;\">name&nbsp;=&nbsp;None,</div></div><div class=\"1002\" style=\"display: none;\"><div style=\"display: table-cell;\"></div><div style=\"display: table-cell;\">nan_color&nbsp;=&nbsp;'gray',</div></div><div class=\"1002\" style=\"display: none;\"><div style=\"display: table-cell;\"></div><div style=\"display: table-cell;\">palette&nbsp;=&nbsp;('#1f77b4', '#aec7e8', '#ff7f0e', '#ffbb78', '#2ca02c', '#98df8a', '#d62728', '#ff9896', '#9467bd'),</div></div><div class=\"1002\" style=\"display: none;\"><div style=\"display: table-cell;\"></div><div style=\"display: table-cell;\">start&nbsp;=&nbsp;0,</div></div><div class=\"1002\" style=\"display: none;\"><div style=\"display: table-cell;\"></div><div style=\"display: table-cell;\">subscribed_events&nbsp;=&nbsp;[],</div></div><div class=\"1002\" style=\"display: none;\"><div style=\"display: table-cell;\"></div><div style=\"display: table-cell;\">syncable&nbsp;=&nbsp;True,</div></div><div class=\"1002\" style=\"display: none;\"><div style=\"display: table-cell;\"></div><div style=\"display: table-cell;\">tags&nbsp;=&nbsp;[])</div></div></div>\n",
       "<script>\n",
       "(function() {\n",
       "  let expanded = false;\n",
       "  const ellipsis = document.getElementById(\"1003\");\n",
       "  ellipsis.addEventListener(\"click\", function() {\n",
       "    const rows = document.getElementsByClassName(\"1002\");\n",
       "    for (let i = 0; i < rows.length; i++) {\n",
       "      const el = rows[i];\n",
       "      el.style.display = expanded ? \"none\" : \"table-row\";\n",
       "    }\n",
       "    ellipsis.innerHTML = expanded ? \"&hellip;)\" : \"&lsaquo;&lsaquo;&lsaquo;\";\n",
       "    expanded = !expanded;\n",
       "  });\n",
       "})();\n",
       "</script>\n"
      ],
      "text/plain": [
       "CategoricalColorMapper(id='1001', ...)"
      ]
     },
     "execution_count": 11,
     "metadata": {},
     "output_type": "execute_result"
    }
   ],
   "source": [
    "color_pallete['transform']"
   ]
  },
  {
   "cell_type": "code",
   "execution_count": 12,
   "metadata": {},
   "outputs": [
    {
     "data": {
      "text/html": [
       "<div>\n",
       "<style scoped>\n",
       "    .dataframe tbody tr th:only-of-type {\n",
       "        vertical-align: middle;\n",
       "    }\n",
       "\n",
       "    .dataframe tbody tr th {\n",
       "        vertical-align: top;\n",
       "    }\n",
       "\n",
       "    .dataframe thead th {\n",
       "        text-align: right;\n",
       "    }\n",
       "</style>\n",
       "<table border=\"1\" class=\"dataframe\">\n",
       "  <thead>\n",
       "    <tr style=\"text-align: right;\">\n",
       "      <th></th>\n",
       "      <th>Dominant_Topic</th>\n",
       "      <th>Keywords</th>\n",
       "      <th>Engagement</th>\n",
       "      <th>Count</th>\n",
       "    </tr>\n",
       "  </thead>\n",
       "  <tbody>\n",
       "    <tr>\n",
       "      <th>0</th>\n",
       "      <td>0</td>\n",
       "      <td>marketing, vindes, ga, kalo, rolls_royce, seri...</td>\n",
       "      <td>1341.700000</td>\n",
       "      <td>10</td>\n",
       "    </tr>\n",
       "    <tr>\n",
       "      <th>1</th>\n",
       "      <td>1</td>\n",
       "      <td>marketing, brand, kol, ga, customer, kalo, inf...</td>\n",
       "      <td>2000.187500</td>\n",
       "      <td>16</td>\n",
       "    </tr>\n",
       "    <tr>\n",
       "      <th>2</th>\n",
       "      <td>2</td>\n",
       "      <td>marketing, ga, ads, kalo, kol, bikin, bisnis, ...</td>\n",
       "      <td>2510.400000</td>\n",
       "      <td>15</td>\n",
       "    </tr>\n",
       "    <tr>\n",
       "      <th>3</th>\n",
       "      <td>3</td>\n",
       "      <td>humor, kalo, orang, ga, marketing, bikin, bran...</td>\n",
       "      <td>1832.857143</td>\n",
       "      <td>7</td>\n",
       "    </tr>\n",
       "    <tr>\n",
       "      <th>4</th>\n",
       "      <td>4</td>\n",
       "      <td>campaign, marketing, orang, iklan, ga, bikin, ...</td>\n",
       "      <td>1786.000000</td>\n",
       "      <td>9</td>\n",
       "    </tr>\n",
       "    <tr>\n",
       "      <th>5</th>\n",
       "      <td>5</td>\n",
       "      <td>influencer, kol, ga, follower, micro_nano, kal...</td>\n",
       "      <td>1829.000000</td>\n",
       "      <td>1</td>\n",
       "    </tr>\n",
       "    <tr>\n",
       "      <th>6</th>\n",
       "      <td>6</td>\n",
       "      <td>campaign, kalo, ads, cpas, roas, meta, kak_jen...</td>\n",
       "      <td>512.000000</td>\n",
       "      <td>3</td>\n",
       "    </tr>\n",
       "    <tr>\n",
       "      <th>7</th>\n",
       "      <td>7</td>\n",
       "      <td>marketing, ga, iklan, orang, kalo, campaign, b...</td>\n",
       "      <td>4227.615385</td>\n",
       "      <td>13</td>\n",
       "    </tr>\n",
       "    <tr>\n",
       "      <th>8</th>\n",
       "      <td>8</td>\n",
       "      <td>perusahaan, pemilik, kaya, total_kekayaan_mili...</td>\n",
       "      <td>3500.000000</td>\n",
       "      <td>1</td>\n",
       "    </tr>\n",
       "  </tbody>\n",
       "</table>\n",
       "</div>"
      ],
      "text/plain": [
       "   Dominant_Topic                                           Keywords  \\\n",
       "0               0  marketing, vindes, ga, kalo, rolls_royce, seri...   \n",
       "1               1  marketing, brand, kol, ga, customer, kalo, inf...   \n",
       "2               2  marketing, ga, ads, kalo, kol, bikin, bisnis, ...   \n",
       "3               3  humor, kalo, orang, ga, marketing, bikin, bran...   \n",
       "4               4  campaign, marketing, orang, iklan, ga, bikin, ...   \n",
       "5               5  influencer, kol, ga, follower, micro_nano, kal...   \n",
       "6               6  campaign, kalo, ads, cpas, roas, meta, kak_jen...   \n",
       "7               7  marketing, ga, iklan, orang, kalo, campaign, b...   \n",
       "8               8  perusahaan, pemilik, kaya, total_kekayaan_mili...   \n",
       "\n",
       "    Engagement  Count  \n",
       "0  1341.700000     10  \n",
       "1  2000.187500     16  \n",
       "2  2510.400000     15  \n",
       "3  1832.857143      7  \n",
       "4  1786.000000      9  \n",
       "5  1829.000000      1  \n",
       "6   512.000000      3  \n",
       "7  4227.615385     13  \n",
       "8  3500.000000      1  "
      ]
     },
     "execution_count": 12,
     "metadata": {},
     "output_type": "execute_result"
    }
   ],
   "source": [
    "df"
   ]
  },
  {
   "cell_type": "code",
   "execution_count": 13,
   "metadata": {},
   "outputs": [
    {
     "data": {
      "text/plain": [
       "rec.array([(0, 'marketing, vindes, ga, kalo, rolls_royce, series_none_none, none_none_none_none, none_none, dnvb, event', 1341.7       , 10),\n",
       "           (1, 'marketing, brand, kol, ga, customer, kalo, influencer, bikin, iklan, orang', 2000.1875    , 16),\n",
       "           (2, 'marketing, ga, ads, kalo, kol, bikin, bisnis, produk, konten, sales', 2510.4       , 15),\n",
       "           (3, 'humor, kalo, orang, ga, marketing, bikin, brand, pake, tim, sales', 1832.85714286,  7),\n",
       "           (4, 'campaign, marketing, orang, iklan, ga, bikin, brand, go_jek, data, copywriting', 1786.        ,  9),\n",
       "           (5, 'influencer, kol, ga, follower, micro_nano, kalo, endorse, marketing, audiencenya, artis', 1829.        ,  1),\n",
       "           (6, 'campaign, kalo, ads, cpas, roas, meta, kak_jenzo, ngiklan, bikin, nge',  512.        ,  3),\n",
       "           (7, 'marketing, ga, iklan, orang, kalo, campaign, bikin, konten, brand, humor', 4227.61538462, 13),\n",
       "           (8, 'perusahaan, pemilik, kaya, total_kekayaan_miliar, peringkat_perusahan, susu, dunia, permen, ga, dnvb', 3500.        ,  1)],\n",
       "          dtype=[('Dominant_Topic', '<i8'), ('Keywords', 'O'), ('Engagement', '<f8'), ('Count', '<i8')])"
      ]
     },
     "execution_count": 13,
     "metadata": {},
     "output_type": "execute_result"
    }
   ],
   "source": [
    "df.to_records(index=False)"
   ]
  }
 ],
 "metadata": {
  "kernelspec": {
   "display_name": "venv",
   "language": "python",
   "name": "python3"
  },
  "language_info": {
   "codemirror_mode": {
    "name": "ipython",
    "version": 3
   },
   "file_extension": ".py",
   "mimetype": "text/x-python",
   "name": "python",
   "nbconvert_exporter": "python",
   "pygments_lexer": "ipython3",
   "version": "3.10.4"
  },
  "orig_nbformat": 4
 },
 "nbformat": 4,
 "nbformat_minor": 2
}
